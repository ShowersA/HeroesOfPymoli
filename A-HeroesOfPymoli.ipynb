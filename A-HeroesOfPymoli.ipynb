#!/usr/bin/env python
# coding: utf-8

# In[28]:


# Dependencies and Setup
import pandas as pd

# File to Load (Remember to Change These)
file = "Resources/purchase_data.csv"

# Read Purchasing File and store into Pandas data frame
purchase_data_df = pd.read_csv(file)


# ## Player Count

# * Display the total number of players
# 

# In[29]:


purchase_data_df.head()


# In[30]:


pd.options.display.float_format = '${:,.2f}'.format
tot_players = purchase_data_df["SN"].nunique()
tot_players_df = pd.DataFrame({"Total Players":[tot_players]})

                            
tot_players_df                                


# ## Purchasing Analysis (Total)

# * Run basic calculations to obtain number of unique items, average price, etc.
# 
# 
# * Create a summary data frame to hold the results
# 
# 
# * Optional: give the displayed data cleaner formatting
# 
# 
# * Display the summary data frame
# 

# In[31]:


Number_of_Unique_Items = purchase_data_df["Item ID"].nunique()
Average_Purchase_Price = round(purchase_data_df["Price"].mean(), 2)
Total_Number_of_Purchases = purchase_data_df["Purchase ID"].count()
Total_Revenue = purchase_data_df["Price"].sum()


# In[32]:


Summary_df = pd.DataFrame({"Number of Unique Items":[Number_of_Unique_Items], "Average Purchase Price":[Average_Purchase_Price], 
                           "Total Number of Purchases":[Total_Number_of_Purchases], "Total Revenue":[Total_Revenue]})
Summary_df                          


# ## Gender Demographics

# * Percentage and Count of Male Players
# 
# 
# * Percentage and Count of Female Players
# 
# 
# * Percentage and Count of Other / Non-Disclosed
# 
# 
# 

# In[33]:


gender_totals_df = purchase_data_df.groupby('Gender')["SN"].nunique()
gender_totals_df


# In[34]:


per_gender_df = gender_totals_df/tot_players*100

#print(pd.DataFrame(per_gender_df.round(2)))


# In[35]:


Gender_Demo_df = pd.DataFrame({"Total Count": gender_totals_df,"Percentage of Players": per_gender_df.round(2)})
Gender_Demo_df


# 
# ## Purchasing Analysis (Gender)

# * Run basic calculations to obtain purchase count, avg. purchase price, avg. purchase total per person etc. by gender
# 
# 
# 
# 
# * Create a summary data frame to hold the results
# 
# 
# * Optional: give the displayed data cleaner formatting
# 
# 
# * Display the summary data frame

# In[36]:


#Purchase Count By Gender
Pur_df = purchase_data_df.groupby("Gender") ["Item Name"].count()

Pur_df


# In[37]:


#Average Purchase Price By Gender
Avg_pur_price_by_gender_df = purchase_data_df.groupby("Gender") ["Price"].mean().round(2)

Avg_pur_price_by_gender_df


# In[38]:


#Total Purchase Value
Avg_df = purchase_data_df.groupby("Gender") ["Price"].sum()
Avg_df


# In[39]:


#Avg Total Purchase per Person
Avg_Pur_Tot_df = Avg_df/gender_totals_df 
Avg_Pur_Tot_df.round(2)


# In[40]:


Purchase_Analysis_Final_df = pd.DataFrame({"Purchase Count":Pur_df, "Average Purchase Price":Avg_pur_price_by_gender_df, 
                           "Total Purchase Value":Avg_df, "Average Purchase Total per Person by Age Group":Avg_Pur_Tot_df.round(2)})
Purchase_Analysis_Final_df


# ## Age Demographics

# * Establish bins for ages
# 
# 
# * Categorize the existing players using the age bins. Hint: use pd.cut()
# 
# 
# * Calculate the numbers and percentages by age group
# 
# 
# * Create a summary data frame to hold the results
# 
# 
# * Optional: round the percentage column to two decimal points
# 
# 
# * Display Age Demographics Table
# 

# In[41]:


#Creating Bins
bins = [0, 9, 14, 19, 24, 30, 35, 39, 100]

# Create the ranges for the bins
age_range = ["<10", "10-14", "15-19", "20-24", "25-29", "30-34", "35-39", "40+"]

#computing count in every category
age_groups = purchase_data_df.groupby(pd.cut(purchase_data_df["Age"], bins, labels=age_range))["SN"].nunique()

#Computing percentage of each category
age_percentage = age_groups/tot_players*100

#Store age demographic count and percentage as new dataframe
demographics_df = pd.DataFrame({"Total Count": age_groups,"Percentage of Players": age_percentage.round(2)})
demographics_df


# ## Purchasing Analysis (Age)

# * Bin the purchase_data data frame by age
# 
# 
# * Run basic calculations to obtain purchase count, avg. purchase price, avg. purchase total per person etc. in the table below
# 
# 
# * Create a summary data frame to hold the results
# 
# 
# * Optional: give the displayed data cleaner formatting
# 
# 
# * Display the summary data frame

# In[42]:


#Creating Bins
#bins = [0, 9, 14, 19, 24, 30, 35, 39, 100]

# Create the ranges for the bins
#age_range = ["<10", "10-14", "15-19", "20-24", "25-29", "30-34", "35-39", "40+"]

#Purchase count By Age
purchase_count_by_age = purchase_data_df.groupby(pd.cut(purchase_data_df["Age"], bins, labels=age_range))["Purchase ID"].count()

#Average Purchase Price By Age
avg_pur_price_by_age = purchase_data_df.groupby(pd.cut(purchase_data_df["Age"], bins, labels=age_range))["Price"].mean().round(2)

#Total Purchase by Age group
total_purchase_by_age = purchase_data_df.groupby(pd.cut(purchase_data_df["Age"], bins, labels=age_range))["Price"].sum()

#Avg Total Purchase per Person
Avg_total_purchase_person = total_purchase_by_age/age_groups

purchase_analysis_age = pd.DataFrame({"Purchase Count": purchase_count_by_age,"Average Purchase Price": avg_pur_price_by_age,
        "Total Purchase Value": total_purchase_by_age, "Avg Total Purchase per Person": Avg_total_purchase_person.round(2)})
purchase_analysis_age


# ## Top Spenders

# * Run basic calculations to obtain the results in the table below
# 
# 
# * Create a summary data frame to hold the results
# 
# 
# * Sort the total purchase value column in descending order
# 
# 
# * Optional: give the displayed data cleaner formatting
# 
# 
# * Display a preview of the summary data frame
# 
# 

# In[109]:


# Get purchase count by individual
Individual_purchases = purchase_data_df.groupby("SN")["Purchase ID"].count()

# Get average purchase price by individual
Average_Purchase_Price = purchase_data_df.groupby("SN") ["Price"].mean().round(2)

# Get total purchase amount per individual
Total_Amount_Purchased =  purchase_data_df.groupby("SN") ["Price"].sum()

# Create dataframe
Top_Spenders = pd.DataFrame({"Purchase Count": Individual_purchases ,"Average Purchase Price": Average_Purchase_Price,
        "Total Purchase Value": Total_Amount_Purchased})

# List top 5 individuals by total purchase amount
Top_Spenders.nlargest(5, "Total Purchase Value")


# ## Most Popular Items

# * Retrieve the Item ID, Item Name, and Item Price columns
# 
# 
# * Group by Item ID and Item Name. Perform calculations to obtain purchase count, item price, and total purchase value
# 
# 
# * Create a summary data frame to hold the results
# 
# 
# * Sort the purchase count column in descending order
# 
# 
# * Optional: give the displayed data cleaner formatting
# 
# 
# * Display a preview of the summary data frame
# 
# 

# In[187]:


Most_Popular_df = purchase_data_df[["Item ID", "Item Name", "Price"]]

Most_Popular_Count = purchase_data_df.groupby(['Item ID','Item Name', 'Price'])['Item Name'].agg(['count']).sort_values(by='count', ascending=False)
#Most_Popular_Count = purchase_data_df.groupby(['Item ID','Item Name', 'Price'])['Item Name'].count()
Most_Popular_Count['Purchase Count'] = purchase_data_df.groupby(['Item ID','Item Name', 'Price'])['Item Name'].transform('count')
# Get total purchase amount per item
Total_Amount_Purchased =  purchase_data_df.groupby("Item ID") ["Price"].sum()

#Most_Popular_Count['Total Purchase Value'] = Total_Amount_Purchased
Most_Pop_Items = pd.DataFrame({"Purchase Count": purchase_count_by_age,"Average Purchase Price": avg_pur_price_by_age,
        "Total Purchase Value": total_purchase_by_age, "Avg Total Purchase per Person": Avg_total_purchase_person.round(2)})


Most_Popular_Count


# ## Most Profitable Items

# * Sort the above table by total purchase value in descending order
# 
# 
# * Optional: give the displayed data cleaner formatting
# 
# 
# * Display a preview of the data frame
# 
# 

# In[ ]:





# In[ ]:


# Dependencies and Setup
import pandas as pd

# File to Load (Remember to Change These)
file = "Resources/purchase_data.csv"

# Read Purchasing File and store into Pandas data frame
purchase_data_df = pd.read_csv(file)

## Player Count

* Display the total number of players


purchase_data = pd.read_csv(file_to_load)
purchase_data.head()

purchase_data["Purchase ID"].count()

## Purchasing Analysis (Total)

* Run basic calculations to obtain number of unique items, average price, etc.


* Create a summary data frame to hold the results


* Optional: give the displayed data cleaner formatting


* Display the summary data frame


Number_of_Unique_Items = purchase_data["Item Name"].nunique()
Average_Purchase_Price = round(purchase_data["Price"].mean(), 2)
Total_Number_of_Purchases = purchase_data["Purchase ID"].count()
Total_Revenue = purchase_data["Price"].sum()

Summary_df = pd.DataFrame({"Number of Unique Items":[Number_of_Unique_Items], "Average Purchase Price":[Average_Purchase_Price], 
                           "Total Number of Purchases":[Total_Number_of_Purchases], "Total Revenue":[Total_Revenue]})
Summary_df                          

## Gender Demographics

* Percentage and Count of Male Players


* Percentage and Count of Female Players


* Percentage and Count of Other / Non-Disclosed




gender_totals_df = purchase_data_df.groupby('Gender')["SN"].nunique()
print(pd.DataFrame(gender_totals))

per_gender_df = gender_totals/576*100

print(pd.DataFrame(per_gender_df.round(2)))

Gender_Demo_df = pd.DataFrame({"Total Count": gender_totals,"Percentage of Players": per_gender_df.round(2)})
Gender_Demo_df


## Purchasing Analysis (Gender)

* Run basic calculations to obtain purchase count, avg. purchase price, avg. purchase total per person etc. by gender




* Create a summary data frame to hold the results


* Optional: give the displayed data cleaner formatting


* Display the summary data frame

purchase_count = purchase_data_df.groupby(['Gender'])

purchase_count

## Age Demographics

* Establish bins for ages


* Categorize the existing players using the age bins. Hint: use pd.cut()


* Calculate the numbers and percentages by age group


* Create a summary data frame to hold the results


* Optional: round the percentage column to two decimal points


* Display Age Demographics Table




## Purchasing Analysis (Age)

* Bin the purchase_data data frame by age


* Run basic calculations to obtain purchase count, avg. purchase price, avg. purchase total per person etc. in the table below


* Create a summary data frame to hold the results


* Optional: give the displayed data cleaner formatting


* Display the summary data frame



## Top Spenders

* Run basic calculations to obtain the results in the table below


* Create a summary data frame to hold the results


* Sort the total purchase value column in descending order


* Optional: give the displayed data cleaner formatting


* Display a preview of the summary data frame





## Most Popular Items

* Retrieve the Item ID, Item Name, and Item Price columns


* Group by Item ID and Item Name. Perform calculations to obtain purchase count, item price, and total purchase value


* Create a summary data frame to hold the results


* Sort the purchase count column in descending order


* Optional: give the displayed data cleaner formatting


* Display a preview of the summary data frame





## Most Profitable Items

* Sort the above table by total purchase value in descending order


* Optional: give the displayed data cleaner formatting


* Display a preview of the data frame



